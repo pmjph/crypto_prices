{
 "cells": [
  {
   "cell_type": "code",
   "execution_count": 1,
   "metadata": {},
   "outputs": [
    {
     "name": "stdout",
     "output_type": "stream",
     "text": [
      "/Users/jeand/anaconda3/envs/crypto-prices/bin/python\n"
     ]
    }
   ],
   "source": [
    "import sys\n",
    "print(sys.executable)"
   ]
  },
  {
   "cell_type": "code",
   "execution_count": 1,
   "metadata": {},
   "outputs": [],
   "source": [
    "# Import the necessary function from your script\n",
    "from tokenPriceUniV2 import create_price_dataframe_WBTC_ETH_v2, create_price_dataframe_stable_v2\n",
    "\n",
    "from web3 import Web3\n",
    "\n",
    "\n",
    "# Define the parameters\n",
    "start_block = 18250736 \n",
    "end_block = 18250836\n",
    "\n",
    "target_pair_address = Web3.to_checksum_address('0xbb2b8038a1640196fbe3e38816f3e67cba72d940')  # WBTC-ETH\n",
    "stable_pair1_address = Web3.to_checksum_address('0xb4e16d0168e52d35cacd2c6185b44281ec28c9dc')  # USDC/ETH\n",
    "stable_pair0_address = Web3.to_checksum_address('0xe93dc496dbc669d7ee4f03b0eb0a10bb13a4b2a4')  # USDC/DUCK\n",
    "target_pair_address_stable = Web3.to_checksum_address('0xb4e16d0168e52d35cacd2c6185b44281ec28c9dc')  # USDC/ETH\n",
    "\n",
    "# Define the file name for the CSV file\n",
    "file_name_1 = 'USDC_ETH_prices.csv'\n",
    "file_name = 'WBTC_ETH_prices.csv'\n",
    "\n",
    "# Call the function with the provided parameters and file name\n",
    "df = create_price_dataframe_WBTC_ETH_v2(start_block, end_block, target_pair_address, stable_pair1_address, file_name=file_name)\n",
    "\n",
    "# Now, the data has been saved to 'WBTC_ETH_prices.csv' and you also have the dataframe df to work with in your notebook.\n",
    "\n",
    "\n",
    "df = create_price_dataframe_stable_v2(start_block, end_block, target_pair_address_stable, file_name=file_name_1)\n"
   ]
  }
 ],
 "metadata": {
  "kernelspec": {
   "display_name": "base",
   "language": "python",
   "name": "python3"
  },
  "language_info": {
   "codemirror_mode": {
    "name": "ipython",
    "version": 3
   },
   "file_extension": ".py",
   "mimetype": "text/x-python",
   "name": "python",
   "nbconvert_exporter": "python",
   "pygments_lexer": "ipython3",
   "version": "3.11.3"
  },
  "orig_nbformat": 4
 },
 "nbformat": 4,
 "nbformat_minor": 2
}
