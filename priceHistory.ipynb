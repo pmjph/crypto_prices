{
 "cells": [
  {
   "cell_type": "code",
   "execution_count": 1,
   "metadata": {},
   "outputs": [
    {
     "name": "stdout",
     "output_type": "stream",
     "text": [
      "/Users/jean/anaconda3/envs/crypto-prices/bin/python\n",
      "Intel MKL WARNING: Support of Intel(R) Streaming SIMD Extensions 4.2 (Intel(R) SSE4.2) enabled only processors has been deprecated. Intel oneAPI Math Kernel Library 2025.0 will require Intel(R) Advanced Vector Extensions (Intel(R) AVX) instructions.\n",
      "Intel MKL WARNING: Support of Intel(R) Streaming SIMD Extensions 4.2 (Intel(R) SSE4.2) enabled only processors has been deprecated. Intel oneAPI Math Kernel Library 2025.0 will require Intel(R) Advanced Vector Extensions (Intel(R) AVX) instructions.\n"
     ]
    }
   ],
   "source": [
    "import sys\n",
    "print(sys.executable)\n",
    "\n",
    "# Import the necessary function from your script\n",
    "from tokenPriceUniV2 import create_price_dataframe_WBTC_ETH_v2, create_price_dataframe_stable_v2\n",
    "from tokenPriceUniV3 import create_price_dataframe_NATI_ETH_v3, create_price_dataframe_stable_v3\n",
    "from web3 import Web3"
   ]
  },
  {
   "cell_type": "code",
   "execution_count": 2,
   "metadata": {},
   "outputs": [
    {
     "name": "stdout",
     "output_type": "stream",
     "text": [
      "Intel MKL WARNING: Support of Intel(R) Streaming SIMD Extensions 4.2 (Intel(R) SSE4.2) enabled only processors has been deprecated. Intel oneAPI Math Kernel Library 2025.0 will require Intel(R) Advanced Vector Extensions (Intel(R) AVX) instructions.\n",
      "Intel MKL WARNING: Support of Intel(R) Streaming SIMD Extensions 4.2 (Intel(R) SSE4.2) enabled only processors has been deprecated. Intel oneAPI Math Kernel Library 2025.0 will require Intel(R) Advanced Vector Extensions (Intel(R) AVX) instructions.\n"
     ]
    }
   ],
   "source": [
    "\n",
    "\n",
    "\n",
    "# Define the parameters\n",
    "start_block = 18250736 \n",
    "end_block = 18250836\n",
    "\n",
    "target_pair_address = Web3.to_checksum_address('0xbb2b8038a1640196fbe3e38816f3e67cba72d940')  # WBTC-ETH\n",
    "stable_pair1_address = Web3.to_checksum_address('0xb4e16d0168e52d35cacd2c6185b44281ec28c9dc')  # USDC/ETH\n",
    "stable_pair0_address = Web3.to_checksum_address('0xe93dc496dbc669d7ee4f03b0eb0a10bb13a4b2a4')  # USDC/DUCK\n",
    "target_pair_address_stable = Web3.to_checksum_address('0xb4e16d0168e52d35cacd2c6185b44281ec28c9dc')  # USDC/ETH\n",
    "\n",
    "# Define the file name for the CSV file\n",
    "file_name_1 = 'USDC_ETH_prices.csv'\n",
    "file_name = 'WBTC_ETH_prices.csv'\n",
    "\n",
    "# Call the function with the provided parameters and file name\n",
    "df = create_price_dataframe_WBTC_ETH_v2(start_block, end_block, target_pair_address, stable_pair1_address, file_name=file_name)\n",
    "\n",
    "# Now, the data has been saved to 'WBTC_ETH_prices.csv' and you also have the dataframe df to work with in your notebook.\n",
    "\n",
    "\n",
    "df = create_price_dataframe_stable_v2(start_block, end_block, target_pair_address_stable, file_name=file_name_1)\n"
   ]
  },
  {
   "cell_type": "code",
   "execution_count": 1,
   "metadata": {},
   "outputs": [
    {
     "name": "stdout",
     "output_type": "stream",
     "text": [
      "Intel MKL WARNING: Support of Intel(R) Streaming SIMD Extensions 4.2 (Intel(R) SSE4.2) enabled only processors has been deprecated. Intel oneAPI Math Kernel Library 2025.0 will require Intel(R) Advanced Vector Extensions (Intel(R) AVX) instructions.\n",
      "Intel MKL WARNING: Support of Intel(R) Streaming SIMD Extensions 4.2 (Intel(R) SSE4.2) enabled only processors has been deprecated. Intel oneAPI Math Kernel Library 2025.0 will require Intel(R) Advanced Vector Extensions (Intel(R) AVX) instructions.\n"
     ]
    }
   ],
   "source": [
    "\n",
    "start_block = 18334374 \n",
    "end_block = 18334546\n",
    "\n",
    "\n",
    "target_pair_address_stable = Web3.to_checksum_address('0x88e6A0c2dDD26FEEb64F039a2c41296FcB3f5640') # USDC/ETH\n",
    "\n",
    "# Define the file name for the CSV file\n",
    "file_name_1 = 'USDC_ETH_prices_V3.csv'\n",
    "file_name = 'ETH_HAI_prices.csv'\n",
    "\n",
    "\n",
    "# Now, the data has been saved to 'WBTC_ETH_prices.csv' and you also have the dataframe df to work with in your notebook.\n",
    "df = create_price_dataframe_stable_v3(start_block, end_block, target_pair_address_stable, file_name=file_name_1)"
   ]
  },
  {
   "cell_type": "code",
   "execution_count": 3,
   "metadata": {},
   "outputs": [],
   "source": [
    "start_block = 18347058 \n",
    "end_block = 18347059\n",
    "target_pair_address = Web3.to_checksum_address('0xb6C0c11a34b7fd40A965Af442C8599544b186D6b') # NATI/ETH\n",
    "#-stable_pair1_address = Web3.to_checksum_address('0x3fA010dD043a2B6673ce017480674E2D77239267') # USDC/HAY\n",
    "stable_pair1_address = Web3.to_checksum_address('0x88e6A0c2dDD26FEEb64F039a2c41296FcB3f5640')# USDC/ETH\n",
    "\n",
    "# Define the file name for the CSV file\n",
    "file_name = 'NATI_ETH_prices.csv'\n"
   ]
  },
  {
   "cell_type": "code",
   "execution_count": 4,
   "metadata": {},
   "outputs": [],
   "source": [
    "\n",
    "df = create_price_dataframe_NATI_ETH_v3(start_block, end_block, target_pair_address,  stable_pair1_address, file_name=file_name)\n"
   ]
  },
  {
   "cell_type": "code",
   "execution_count": null,
   "metadata": {},
   "outputs": [],
   "source": []
  }
 ],
 "metadata": {
  "kernelspec": {
   "display_name": "base",
   "language": "python",
   "name": "python3"
  },
  "language_info": {
   "codemirror_mode": {
    "name": "ipython",
    "version": 3
   },
   "file_extension": ".py",
   "mimetype": "text/x-python",
   "name": "python",
   "nbconvert_exporter": "python",
   "pygments_lexer": "ipython3",
   "version": "3.11.6"
  },
  "orig_nbformat": 4
 },
 "nbformat": 4,
 "nbformat_minor": 2
}
